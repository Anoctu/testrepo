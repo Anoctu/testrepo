{
 "cells": [
  {
   "cell_type": "markdown",
   "metadata": {},
   "source": [
    "<center>\n",
    "    <img src=\"https://cf-courses-data.s3.us.cloud-object-storage.appdomain.cloud/IBMDeveloperSkillsNetwork-DS0105EN-SkillsNetwork/labs/Module2/images/SN_web_lightmode.png\" width=\"300\" alt=\"cognitiveclass.ai logo\"  />\n",
    "</center>\n"
   ]
  },
  {
   "cell_type": "markdown",
   "metadata": {},
   "source": [
    "#### Add your code below following the instructions given in the course\n"
   ]
  },
  {
   "cell_type": "markdown",
   "metadata": {},
   "source": [
    "# My Jupyter Notebook on IBM Watson Studio"
   ]
  },
  {
   "cell_type": "markdown",
   "metadata": {},
   "source": [
    "**A. Noctu** <br>\n",
    "Data Scientist"
   ]
  },
  {
   "cell_type": "markdown",
   "metadata": {},
   "source": [
    "*I am interested in data science because I like the 'detective work' on data.*"
   ]
  },
  {
   "cell_type": "markdown",
   "metadata": {},
   "source": [
    "### The code in the following cell is supposed to add the answer to everything (42) to the spooky number (23)."
   ]
  },
  {
   "cell_type": "code",
   "execution_count": 2,
   "metadata": {},
   "outputs": [
    {
     "name": "stdout",
     "output_type": "stream",
     "text": [
      "42 + 23 =  65\n"
     ]
    }
   ],
   "source": [
    "print('42 + 23 = ', 42 + 23)"
   ]
  },
  {
   "cell_type": "markdown",
   "metadata": {},
   "source": [
    "Here is my ~~pretty~~ awesome horizontal rule, made by three underscores: <br> \n",
    "___ <br> \n",
    "\n",
    ">This is a block code.\n",
    ">Made with a '>' at the beginning of each line.\n",
    "\n",
    "[This is a link to Google.](https://www.google.com \"Google's here!\")\n",
    "\n",
    "Hightlighting `inline code` is easy with back-ticks.\n",
    "\n",
    "```python\n",
    "s = \"This is my attempt at syntax highlighting\"\n",
    "print s\n",
    "```\n",
    "\n",
    "* This\n",
    "* is\n",
    "* a\n",
    "* bullet\n",
    "* list.\n",
    "\n",
    "1. This\n",
    "2. is\n",
    "3. not\n",
    "4. a\n",
    "5. bullet\n",
    "   1. list\n",
    "   2. but\n",
    "   3. an ordered list."
   ]
  }
 ],
 "metadata": {
  "kernelspec": {
   "display_name": "Python",
   "language": "python",
   "name": "conda-env-python-py"
  },
  "language_info": {
   "codemirror_mode": {
    "name": "ipython",
    "version": 3
   },
   "file_extension": ".py",
   "mimetype": "text/x-python",
   "name": "python",
   "nbconvert_exporter": "python",
   "pygments_lexer": "ipython3",
   "version": "3.7.12"
  }
 },
 "nbformat": 4,
 "nbformat_minor": 4
}
